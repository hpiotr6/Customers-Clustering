{
 "cells": [
  {
   "cell_type": "markdown",
   "metadata": {},
   "source": [
    "### Dane\n",
    "\n",
    "Dane zostały podzielone na okres ostatniego miesiąca i pozostałe.\n",
    "Sprawdzenie jakości działania modelów odbywało się wykorzystując dane ostatniego miesiąca. Do pozostałych czynności(jak np trenowanie modeli) były wykorzystywane dane nie zawierające ostatniego miesiąca zakupów."
   ]
  },
  {
   "cell_type": "markdown",
   "metadata": {},
   "source": [
    "## Najprostszy model"
   ]
  },
  {
   "cell_type": "markdown",
   "metadata": {},
   "source": [
    "Do zbudowania najprostszego modelu clusteringu stwierdziliśmy, że skoro polecenie mówo o ,,klientach którzy najwięcej są skłonni wydać\" to najlepszym pomysłem jest pogrupowanie według sumy wydanych pieniędzy."
   ]
  },
  {
   "cell_type": "markdown",
   "metadata": {},
   "source": [
    "#### Tworzenie danych\n",
    "Pliki modelu prostego, są umieszczone w folderze o nazwie IUM21Z_Zad_05_03\n",
    "\n",
    "Pierwszą rzeczą do budowy modelu jest przygotowanie danych.\n",
    "Skrypt IUM21Z_Zad_05_03/features/build_features.py pozwala na wygenerowanie na podstawie danych o sesjach, użytkownikach i produktach jednej tabelki, w której mamy potrzebne informacje o użytkownikach takie jak m.in: suma_wydawanych_pieniędzy. \n",
    "Mamy możliwość wygenerowania danych okrojonych(potrzebnych do minimalnego modelu, czyli tylko user_id i \"amount\"(suma wydanych pieniędzy)) jak i pełnych(nieokrojone - z innymi atrybutami jak ,,frequency\" czy ,,recency\")\n",
    "\n",
    "Dane możemy też podzielić na 2 zbiory - treningowy i testowy.(Treningowy oznacza zbiór z danymi na których będzie uczony model. Zbiór testowy traktujemy jako nowych użytkowników których spróbujemy przypasować do grupy ze względu na potencjalne wydatki)\n",
    "\n",
    "Dane dzielimy także na dane z ostatniego miesiąca i z przeszłości DO ostatniego miesiąca. Taki podział pozwala na przypisanie użytkowników do grup(na podstawie danych bez ostatniego miesiąca) i sprawdzić poprawność predykcji na danych z ostatniego miesiąca. Taki zabieg pozwala na ocenę działania modelu pomimo  braku nowych danych.(danych z przyszłości)\n",
    "\n",
    "Tak wytworzone dane zapisujemy do folderu data/processed.\n"
   ]
  },
  {
   "cell_type": "markdown",
   "metadata": {},
   "source": [
    "### Trenowanie modelu\n",
    "Korzystając z danych zapisanych w katalogu data/processed możemy wytrenować model grupowania.\n",
    "\n",
    "Za pomocą funkcji ze skryptu IUM21Z_Zad_05_03/models/train_model.py otrzymujemy model, który jest zapisywany w katalogu models/simple_model.pkl\n",
    "Liczba clustrów w modelu jest wybierana automatycznie za pomocą modułu KneeLocator z bibloteki kneed."
   ]
  },
  {
   "cell_type": "markdown",
   "metadata": {},
   "source": [
    "### Predykcje\n",
    "Predykcje wykonujemy za pomocą metod ze skryptu IUM21Z_Zad_05_03/models/predict_model.py. Za pomocą skryptu, przypisujemy do każdego użytkownika z przekazanego zbioru atrybut ,,Cluster\" który oznacza grupę do której został przypisany użytkownik. Metody pozwalają również na uzyskanie numeru grupy z największą średnią wartością atrybutu \"amount\" oznaczającego sumę wydanych pieniędzy. Możemy także uzyskać średnią ilość wydanych pieniędzy przez daną grupę. Ta funkcja przyda się przy testowaniu działania.\n"
   ]
  },
  {
   "cell_type": "markdown",
   "metadata": {},
   "source": [
    "### Testowanie analitycznego kryterium\n",
    "Kryterium analitycznym modelu było uzyskanie średniej wartości wydanych pieniędzy w najlepszej grupie większej, niż w jakiejkolwiek innej. \n",
    "\n",
    "Do sprawdzenia kryterium, najpierw wytrenowano model na danych treningowych(bez ostatniego miesiąca). Na tak wytrenowanym modelu zrobiono predykcję na użytkownikach ze zbioru testowego(potraktowano tych użytkowników jako nowych użytkowników na których nie był uczony model w celu sprawdzenia uniwersalności modelu).\n",
    "Tak podzielone na grupy użytkownicy zostali przetestowani przez ostatni miesiąc.\n",
    "\n",
    "### Rezultaty i wnioski\n",
    "W ostatnim miesiącu grupa która według modelu powinna wydać najwięcej faktycznie uzyskała najlepszy wynik.\n",
    "Najlepsza grupa uzyskała wynik 21844, a  pozostałe 12300 i 16300.\n",
    "\n",
    "Poprawność spełnienia kryterium biznesowego widać na przykład w teście ,,test_criterium.py\""
   ]
  },
  {
   "cell_type": "markdown",
   "metadata": {},
   "source": [
    "## Skomplikowany model\n",
    "Do stworzenia skomplikowanego modelu wykorzystano model RFM, czyli model zależny od sumy, częstotliwości i czasu od ostatniego zakupu.  "
   ]
  },
  {
   "cell_type": "markdown",
   "metadata": {},
   "source": [
    "#### Tworzenie danych\n",
    "Pliki modelu skomplikowanego, są umieszczone w folderze o nazwie RFM_model\n",
    "\n",
    "Wspólne dane zostały wytworzone za pomocą skrytpu z poprzedniego modelu.\n",
    "\n",
    "\n"
   ]
  },
  {
   "cell_type": "markdown",
   "metadata": {},
   "source": [
    "### Trenowanie modelu\n",
    "Korzystając z danych zapisanych w katalogu data/processed możemy wytrenować model RFM.\n",
    "\n",
    "Za pomocą funkcji ze skryptu RFM_model/models/train_model.py otrzymujemy model, który jest zapisywany w katalogu models/my_model.pkl\n",
    "Liczba clustrów jest wybrana na 3 poprzez analizę wykresu ,,punktu zgięcia łokcia\" który został wygenerowany za pomocą biblioteki KMeans."
   ]
  },
  {
   "cell_type": "markdown",
   "metadata": {},
   "source": []
  },
  {
   "cell_type": "markdown",
   "metadata": {},
   "source": [
    "### Predykcje\n",
    "Predykcje wykonujemy za pomocą metod ze skryptu RFM_model/models/predict_model.py. Za pomocą skryptu, przypisujemy do każdego użytkownika z przekazanego zbioru atrybut ,,Cluster\" który oznacza grupę do której został przypisany użytkownik. Metody pozwalają również na uzyskanie numeru grupy z największą średnią wartością atrybutu \"amount\" oznaczającego sumę wydanych pieniędzy. Możemy także uzyskać średnią ilość wydanych pieniędzy przez daną grupę. Ta funkcja przyda się przy testowaniu działania.\n"
   ]
  },
  {
   "cell_type": "markdown",
   "metadata": {},
   "source": [
    "### Testowanie analitycznego kryterium\n",
    "Kryterium analitycznym modelu było uzyskanie średniej wartości wydanych pieniędzy w najlepszej grupie większej, niż w jakiejkolwiek innej. \n",
    "\n",
    "Do sprawdzenia kryterium, najpierw wytrenowano model na danych treningowych(bez ostatniego miesiąca). Na tak wytrenowanym modelu zrobiono predykcję na użytkownikach ze zbioru testowego(potraktowano tych użytkowników jako nowych użytkowników na których nie był uczony model w celu sprawdzenia uniwersalności modelu).\n",
    "Tak podzielone na grupy użytkownicy zostali przetestowani przez ostatni miesiąc.\n",
    "\n",
    "### Rezultaty i wnioski\n",
    "W ostatnim miesiącu grupa która według modelu powinna wydać najwięcej faktycznie uzyskała najlepszy wynik.\n",
    "Najlepsza grupa uzyskała wynik 27000, a  pozostałe 9820 i 14957.\n",
    "\n",
    "Poprawność spełnienia kryterium biznesowego widać na przykład w teście ,,test_criterium.py\""
   ]
  },
  {
   "cell_type": "markdown",
   "metadata": {},
   "source": [
    "### Logi\n",
    "W katalogu logs stworzony został plik logger.py zawierający funkcję log. \n",
    "Do metod używanych przy modelach została ta funkcja dołączona w postaci dekoratora, dzięki czemu każde wywołanie funkcji jest rejestrowane w pliku logs.log znajdującym się w folderze logs.\n"
   ]
  },
  {
   "cell_type": "markdown",
   "metadata": {},
   "source": [
    "## Porównanie obu modeli\n",
    "\n",
    "#### Kryteria sukcecu:\n",
    "\n",
    "Modele były testowane na danych testowych(klienci którzy nie uczestniczyli w trenowaniu modelu), a także na sumie wszystkich użytkowników(wszyscy użytkownicy).\n",
    "\n",
    "Model łatwy dla testowania na mniejszej liczbie użytkowników nie zawsze spełniał kryterium sukcesu. W przypadku modelu trudniejszego kryterium sukcesu zawsze zostało spełnione.\n",
    "\n",
    "Dla pełnej puli użytkowników oba modele spełniły kryterium sukcesu.\n",
    "\n",
    "#### Jakość\n",
    "\n",
    "Trudniejszy model okazał się lepszy jakościowo od najprostszego. Najlepsi klienci wybrani modelem skomplikowanym wydali średnio w ciągu ostatniego miesiąca 1.5raza więcej niż modelem najprostszym.\n"
   ]
  },
  {
   "cell_type": "markdown",
   "metadata": {},
   "source": [
    "### Mikroserwis\n",
    "Mikroserwis włączamy będąc w katalogu ium-21z/microservice komendą uvicorn main:app --reload"
   ]
  },
  {
   "cell_type": "markdown",
   "metadata": {},
   "source": []
  }
 ],
 "metadata": {
  "language_info": {
   "name": "python"
  },
  "orig_nbformat": 4
 },
 "nbformat": 4,
 "nbformat_minor": 2
}
