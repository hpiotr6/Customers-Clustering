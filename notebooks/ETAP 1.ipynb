{
 "cells": [
  {
   "cell_type": "markdown",
   "id": "cbf4f953",
   "metadata": {},
   "source": [
    "Zadanie:\n",
    "    \n",
    "Mamy co prawda dodatkowe benefity dla naszych najlepszych klientów, ale może dałoby \n",
    "się ustalić kto potencjalnie jest skłonny wydawać u nas więcej?"
   ]
  },
  {
   "cell_type": "code",
   "execution_count": null,
   "id": "1af5f772",
   "metadata": {},
   "outputs": [],
   "source": []
  },
  {
   "cell_type": "markdown",
   "id": "ab88bbe1",
   "metadata": {},
   "source": [
    "Zadanie biznesowe:\n",
    "Grupowanie klientów ze względu na potencjał wydawanych pięniędzy\n"
   ]
  },
  {
   "cell_type": "markdown",
   "id": "c1425768",
   "metadata": {},
   "source": [
    "Zadanie modelowania:\n",
    "Stworzenie modelu grupującego klientów według potencjału wydawania pieniędzy, na postawie ich poprzednich zakupów \n",
    "EW DOPYTAC"
   ]
  },
  {
   "cell_type": "markdown",
   "id": "ea87a609",
   "metadata": {},
   "source": [
    "Biznesowe kryterium sukcesu:\n",
    "Wybranie dobrej grupy klientów która będzie wydawać dużo pieniędzy w naszym sklepie\n",
    "EW DOPYTAC"
   ]
  },
  {
   "cell_type": "markdown",
   "id": "d095e55d",
   "metadata": {},
   "source": [
    "Dane do modelowania:\n",
    "    Informacje o użytkownikach\n",
    "    Logi zakupów/przeglądania produktów\n",
    "    Informacje o produktach"
   ]
  },
  {
   "cell_type": "markdown",
   "id": "d39779e9",
   "metadata": {},
   "source": [
    "Analityczne kryterium sukcesu:???\n",
    "EW DOPYTAC"
   ]
  },
  {
   "cell_type": "markdown",
   "id": "d87f60bc",
   "metadata": {},
   "source": [
    "Założenia:??? czy tutaj coś trzeba"
   ]
  },
  {
   "cell_type": "markdown",
   "id": "74fca328",
   "metadata": {},
   "source": [
    "Polecenie:\n",
    "\n",
    "analizę danych z perspektywy realizacji tych zadań (trzeba ocenić, czy dostarczone \n",
    "dane są wystarczające – może czegoś brakuje, może coś trzeba poprawić, domagać się \n",
    "innych danych, …)"
   ]
  },
  {
   "cell_type": "markdown",
   "id": "016fb2a5",
   "metadata": {},
   "source": [
    "Nasze zadanie opiera się głównie na klientach, więc w szczególności musimy mieć o nich jak najwięcej i jak najdokładniejsze informacje."
   ]
  },
  {
   "cell_type": "markdown",
   "id": "591eddfc",
   "metadata": {},
   "source": [
    "Ilość danych\n",
    "\n",
    "Ponieważ w bazie danych jest 200 klientów, których musimy podzielić na zbiory (uczący, testowy, walidacyjny) a także że część informacji dotyczących klientów zawiera błędy lub jest niekompletna, zdecydowaliśmy się poprosić o większą liczbę danych odnośnie klientów."
   ]
  },
  {
   "cell_type": "markdown",
   "id": "ab599b68",
   "metadata": {},
   "source": [
    "Poprawność danych\n",
    "\n",
    "Część informacji o użytkownikach i ich historii przeglądania/zakupów jest brakująca, a także zdarzają się przypadki z błędnymi danymi (np. ujemna cena produktu), jednak przy założeniu, że powiększymy bazę danych użytkowników, część braków w danych można będzie pominąć. W przypadku nieprawidłowych wartości, do tworzenia modelu będziemy musieli je pousuwać, żeby nie wpłyneły negatywnie na jakość modelu."
   ]
  },
  {
   "cell_type": "markdown",
   "id": "26ba88a1",
   "metadata": {},
   "source": [
    "Rozkład danych - ilość wydawanych pieniędzy\n",
    "\n",
    "W przypadku ilości pieniędzy wydanych przez klientów, mamy dość równomierne rozłożenie. Z każdej grupy ilości wydanych pieniędzy jest podobna ilość osób.\n",
    "\n",
    "W przypadku miesięcy rozkład jest bardzo nierówny i ciężko zrobić na ich podstawie model."
   ]
  },
  {
   "cell_type": "markdown",
   "id": "c54d49f2",
   "metadata": {},
   "source": [
    "Brakujące dane\n",
    "\n",
    "Informacje o benefitach które dostają najlepsi klienci."
   ]
  },
  {
   "cell_type": "markdown",
   "id": "cef6ed77",
   "metadata": {},
   "source": [
    "Konsultacje:\n",
    "    czy 1000 użytkowników jest ok?\n",
    "    Jaka forma oddawania, czy trzeba się mocno rozpisywać, dawać zdjęcia, jakieś konkrety?\n",
    "    te pytania co wyżej apropo opisu"
   ]
  },
  {
   "cell_type": "code",
   "execution_count": null,
   "id": "5270603d",
   "metadata": {},
   "outputs": [],
   "source": []
  }
 ],
 "metadata": {
  "kernelspec": {
   "display_name": "Python 3 (ipykernel)",
   "language": "python",
   "name": "python3"
  },
  "language_info": {
   "codemirror_mode": {
    "name": "ipython",
    "version": 3
   },
   "file_extension": ".py",
   "mimetype": "text/x-python",
   "name": "python",
   "nbconvert_exporter": "python",
   "pygments_lexer": "ipython3",
   "version": "3.9.7"
  }
 },
 "nbformat": 4,
 "nbformat_minor": 5
}
