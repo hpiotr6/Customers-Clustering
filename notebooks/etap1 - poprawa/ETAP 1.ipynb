{
 "cells": [
  {
   "cell_type": "markdown",
   "id": "cbf4f953",
   "metadata": {},
   "source": [
    "# Zadanie:\n",
    "    \n",
    "Mamy co prawda dodatkowe benefity dla naszych najlepszych klientów, ale może dałoby \n",
    "się ustalić kto |potencjalnie jest skłonny wydawać u nas więcej?"
   ]
  },
  {
   "cell_type": "markdown",
   "id": "7f13042d",
   "metadata": {},
   "source": [
    "# Polecenie części pierwszej:\n",
    "Ustalenie definicji problemu biznesowego, zdefiniowanie zadania/zadań modelowania i \n",
    "wszystkich założeń, zaproponowania kryteriów sukcesu\n"
   ]
  },
  {
   "cell_type": "markdown",
   "id": "ab88bbe1",
   "metadata": {},
   "source": [
    "### Zadanie biznesowe:\n",
    "Grupowanie klientów ze względu na potencjał wydawania pięniędzy\n"
   ]
  },
  {
   "cell_type": "markdown",
   "id": "c1425768",
   "metadata": {},
   "source": [
    "### Zadanie modelowania:\n",
    "Stworzenie modelu grupującego klientów według potencjału wydawania pieniędzy, na postawie ich poprzednich zakupów \n"
   ]
  },
  {
   "cell_type": "markdown",
   "id": "ea87a609",
   "metadata": {},
   "source": [
    "### Biznesowe kryterium sukcesu:\n",
    "Wybranie grupy klientów która będzie wydawać więcej pieniędzy niż pozostałe grupy klientów. "
   ]
  },
  {
   "cell_type": "markdown",
   "id": "d095e55d",
   "metadata": {},
   "source": [
    "### Dane używane do modelowania:\n",
    "\n",
    "   #### Wewnętrzne:\n",
    "    \n",
    "    Informacje o użytkownikach\n",
    "    Logi zakupów/przeglądania produktów\n",
    "    Informacje o produktach\n",
    "   #### Zewnętrzne:\n",
    "    Informacje o miastach(np gęstość zaludnienia)\n",
    "\n",
    "    \n",
    "### Dane nie używane do modelowania:\n",
    "    Informacje o dostawach"
   ]
  },
  {
   "cell_type": "markdown",
   "id": "d39779e9",
   "metadata": {},
   "source": [
    "### Analityczne kryterium sukcesu:\n",
    "Suma pieniędzy wydanych przez najlepszych klientów/Liczba klientów w tej grupie > Suma pieniędzy wydanych przez klientów z jakiejkolwiek innej grupy/liczba osób w tej grupie\n"
   ]
  },
  {
   "cell_type": "markdown",
   "id": "d87f60bc",
   "metadata": {},
   "source": [
    "### Założenia:\n",
    "Klientów przydzielami do grupy dopiero po 10 dokonanych zakupach"
   ]
  },
  {
   "cell_type": "markdown",
   "id": "74fca328",
   "metadata": {},
   "source": [
    "# Polecenie części drugiej:\n",
    "\n",
    "Wykonać analizę danych z perspektywy realizacji tych zadań (trzeba ocenić, czy dostarczone \n",
    "dane są wystarczające – może czegoś brakuje, może coś trzeba poprawić, domagać się \n",
    "innych danych, …)"
   ]
  },
  {
   "cell_type": "markdown",
   "id": "016fb2a5",
   "metadata": {},
   "source": [
    "###### Nasze zadanie opiera się głównie na klientach, więc w szczególności musimy mieć o nich jak najwięcej i jak najdokładniejsze informacje."
   ]
  },
  {
   "cell_type": "markdown",
   "id": "591eddfc",
   "metadata": {},
   "source": [
    "### Ilość danych\n",
    "\n",
    "Ponieważ w bazie danych jest 200 klientów, których musimy podzielić na zbiory (uczący, testowy, walidacyjny) a także że część informacji dotyczących klientów zawiera błędy lub jest niekompletna, zdecydowaliśmy się poprosić o większą liczbę danych odnośnie klientów. Pozostała liczba danych na ten moment wydaje się wystarczająca"
   ]
  },
  {
   "cell_type": "markdown",
   "id": "ab599b68",
   "metadata": {},
   "source": [
    "### Poprawność danych\n",
    "\n",
    "Część informacji o użytkownikach i ich historii przeglądania/zakupów jest brakująca, a także zdarzają się przypadki z błędnymi danymi (np. ujemna cena produktu, cena ponad 9mln zł, czy wszystkie daty zamówień z ostatniego roku a jedno z 2002), jednak przy założeniu, że powiększymy bazę danych użytkowników, część braków w danych można będzie pominąć. "
   ]
  },
  {
   "cell_type": "markdown",
   "id": "26ba88a1",
   "metadata": {},
   "source": [
    "### Rozkład danych\n",
    "\n",
    "W przypadku większości danych np. ilości pieniędzy wydanych przez klientów, mamy dość równomierne rozłożenie. Z każdej grupy ilości wydanych pieniędzy jest podobna ilość osób. Inaczej sytuacja wygląda w przypadku miesięcy. Ich rozkład jest bardzo nierówny i niereprezentatywny."
   ]
  },
  {
   "cell_type": "markdown",
   "id": "c54d49f2",
   "metadata": {},
   "source": [
    "### Brakujące dane\n",
    "\n",
    "Brakuje informacji o benefitach które dostają obecnie najlepsi klienci. \n",
    "(Zgodnie z poleceniem najlepsi klienci mają jakieś benefity)"
   ]
  },
  {
   "cell_type": "markdown",
   "id": "a4dde109",
   "metadata": {},
   "source": [
    "# Najważniejsze zależności danych zostały przedstawione w drugim dołączonym pliku  - preprocessed.ipynb"
   ]
  }
 ],
 "metadata": {
  "kernelspec": {
   "display_name": "Python 3 (ipykernel)",
   "language": "python",
   "name": "python3"
  },
  "language_info": {
   "codemirror_mode": {
    "name": "ipython",
    "version": 3
   },
   "file_extension": ".py",
   "mimetype": "text/x-python",
   "name": "python",
   "nbconvert_exporter": "python",
   "pygments_lexer": "ipython3",
   "version": "3.9.7"
  }
 },
 "nbformat": 4,
 "nbformat_minor": 5
}
